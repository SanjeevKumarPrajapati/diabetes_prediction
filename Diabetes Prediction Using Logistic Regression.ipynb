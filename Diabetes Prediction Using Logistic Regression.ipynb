{
 "cells": [
  {
   "cell_type": "code",
   "execution_count": 1,
   "metadata": {},
   "outputs": [],
   "source": [
    "import numpy as np"
   ]
  },
  {
   "cell_type": "code",
   "execution_count": 2,
   "metadata": {},
   "outputs": [],
   "source": [
    "import pandas as pd"
   ]
  },
  {
   "cell_type": "code",
   "execution_count": 3,
   "metadata": {},
   "outputs": [],
   "source": [
    "df=pd.read_csv(\"Diabetes.csv\")"
   ]
  },
  {
   "cell_type": "code",
   "execution_count": 4,
   "metadata": {},
   "outputs": [
    {
     "data": {
      "text/html": [
       "<div>\n",
       "<style scoped>\n",
       "    .dataframe tbody tr th:only-of-type {\n",
       "        vertical-align: middle;\n",
       "    }\n",
       "\n",
       "    .dataframe tbody tr th {\n",
       "        vertical-align: top;\n",
       "    }\n",
       "\n",
       "    .dataframe thead th {\n",
       "        text-align: right;\n",
       "    }\n",
       "</style>\n",
       "<table border=\"1\" class=\"dataframe\">\n",
       "  <thead>\n",
       "    <tr style=\"text-align: right;\">\n",
       "      <th></th>\n",
       "      <th>pregnancies</th>\n",
       "      <th>glucose</th>\n",
       "      <th>diastolic</th>\n",
       "      <th>triceps</th>\n",
       "      <th>insulin</th>\n",
       "      <th>bmi</th>\n",
       "      <th>dpf</th>\n",
       "      <th>age</th>\n",
       "      <th>diabetes</th>\n",
       "    </tr>\n",
       "  </thead>\n",
       "  <tbody>\n",
       "    <tr>\n",
       "      <th>0</th>\n",
       "      <td>6</td>\n",
       "      <td>148</td>\n",
       "      <td>72</td>\n",
       "      <td>35</td>\n",
       "      <td>0</td>\n",
       "      <td>33.6</td>\n",
       "      <td>0.627</td>\n",
       "      <td>50</td>\n",
       "      <td>1</td>\n",
       "    </tr>\n",
       "    <tr>\n",
       "      <th>1</th>\n",
       "      <td>1</td>\n",
       "      <td>85</td>\n",
       "      <td>66</td>\n",
       "      <td>29</td>\n",
       "      <td>0</td>\n",
       "      <td>26.6</td>\n",
       "      <td>0.351</td>\n",
       "      <td>31</td>\n",
       "      <td>0</td>\n",
       "    </tr>\n",
       "    <tr>\n",
       "      <th>2</th>\n",
       "      <td>8</td>\n",
       "      <td>183</td>\n",
       "      <td>64</td>\n",
       "      <td>0</td>\n",
       "      <td>0</td>\n",
       "      <td>23.3</td>\n",
       "      <td>0.672</td>\n",
       "      <td>32</td>\n",
       "      <td>1</td>\n",
       "    </tr>\n",
       "    <tr>\n",
       "      <th>3</th>\n",
       "      <td>1</td>\n",
       "      <td>89</td>\n",
       "      <td>66</td>\n",
       "      <td>23</td>\n",
       "      <td>94</td>\n",
       "      <td>28.1</td>\n",
       "      <td>0.167</td>\n",
       "      <td>21</td>\n",
       "      <td>0</td>\n",
       "    </tr>\n",
       "    <tr>\n",
       "      <th>4</th>\n",
       "      <td>0</td>\n",
       "      <td>137</td>\n",
       "      <td>40</td>\n",
       "      <td>35</td>\n",
       "      <td>168</td>\n",
       "      <td>43.1</td>\n",
       "      <td>2.288</td>\n",
       "      <td>33</td>\n",
       "      <td>1</td>\n",
       "    </tr>\n",
       "  </tbody>\n",
       "</table>\n",
       "</div>"
      ],
      "text/plain": [
       "   pregnancies  glucose  diastolic  triceps  insulin   bmi    dpf  age  \\\n",
       "0            6      148         72       35        0  33.6  0.627   50   \n",
       "1            1       85         66       29        0  26.6  0.351   31   \n",
       "2            8      183         64        0        0  23.3  0.672   32   \n",
       "3            1       89         66       23       94  28.1  0.167   21   \n",
       "4            0      137         40       35      168  43.1  2.288   33   \n",
       "\n",
       "   diabetes  \n",
       "0         1  \n",
       "1         0  \n",
       "2         1  \n",
       "3         0  \n",
       "4         1  "
      ]
     },
     "execution_count": 4,
     "metadata": {},
     "output_type": "execute_result"
    }
   ],
   "source": [
    "df.head()"
   ]
  },
  {
   "cell_type": "code",
   "execution_count": 5,
   "metadata": {},
   "outputs": [
    {
     "name": "stdout",
     "output_type": "stream",
     "text": [
      "<class 'pandas.core.frame.DataFrame'>\n",
      "RangeIndex: 768 entries, 0 to 767\n",
      "Data columns (total 9 columns):\n",
      " #   Column       Non-Null Count  Dtype  \n",
      "---  ------       --------------  -----  \n",
      " 0   pregnancies  768 non-null    int64  \n",
      " 1   glucose      768 non-null    int64  \n",
      " 2   diastolic    768 non-null    int64  \n",
      " 3   triceps      768 non-null    int64  \n",
      " 4   insulin      768 non-null    int64  \n",
      " 5   bmi          768 non-null    float64\n",
      " 6   dpf          768 non-null    float64\n",
      " 7   age          768 non-null    int64  \n",
      " 8   diabetes     768 non-null    int64  \n",
      "dtypes: float64(2), int64(7)\n",
      "memory usage: 54.1 KB\n"
     ]
    }
   ],
   "source": [
    "df.info()"
   ]
  },
  {
   "cell_type": "code",
   "execution_count": 6,
   "metadata": {},
   "outputs": [
    {
     "data": {
      "text/html": [
       "<div>\n",
       "<style scoped>\n",
       "    .dataframe tbody tr th:only-of-type {\n",
       "        vertical-align: middle;\n",
       "    }\n",
       "\n",
       "    .dataframe tbody tr th {\n",
       "        vertical-align: top;\n",
       "    }\n",
       "\n",
       "    .dataframe thead th {\n",
       "        text-align: right;\n",
       "    }\n",
       "</style>\n",
       "<table border=\"1\" class=\"dataframe\">\n",
       "  <thead>\n",
       "    <tr style=\"text-align: right;\">\n",
       "      <th></th>\n",
       "      <th>pregnancies</th>\n",
       "      <th>glucose</th>\n",
       "      <th>diastolic</th>\n",
       "      <th>triceps</th>\n",
       "      <th>insulin</th>\n",
       "      <th>bmi</th>\n",
       "      <th>dpf</th>\n",
       "      <th>age</th>\n",
       "      <th>diabetes</th>\n",
       "    </tr>\n",
       "  </thead>\n",
       "  <tbody>\n",
       "    <tr>\n",
       "      <th>count</th>\n",
       "      <td>768.000000</td>\n",
       "      <td>768.000000</td>\n",
       "      <td>768.000000</td>\n",
       "      <td>768.000000</td>\n",
       "      <td>768.000000</td>\n",
       "      <td>768.000000</td>\n",
       "      <td>768.000000</td>\n",
       "      <td>768.000000</td>\n",
       "      <td>768.000000</td>\n",
       "    </tr>\n",
       "    <tr>\n",
       "      <th>mean</th>\n",
       "      <td>3.845052</td>\n",
       "      <td>120.894531</td>\n",
       "      <td>69.105469</td>\n",
       "      <td>20.536458</td>\n",
       "      <td>79.799479</td>\n",
       "      <td>31.992578</td>\n",
       "      <td>0.471876</td>\n",
       "      <td>33.240885</td>\n",
       "      <td>0.348958</td>\n",
       "    </tr>\n",
       "    <tr>\n",
       "      <th>std</th>\n",
       "      <td>3.369578</td>\n",
       "      <td>31.972618</td>\n",
       "      <td>19.355807</td>\n",
       "      <td>15.952218</td>\n",
       "      <td>115.244002</td>\n",
       "      <td>7.884160</td>\n",
       "      <td>0.331329</td>\n",
       "      <td>11.760232</td>\n",
       "      <td>0.476951</td>\n",
       "    </tr>\n",
       "    <tr>\n",
       "      <th>min</th>\n",
       "      <td>0.000000</td>\n",
       "      <td>0.000000</td>\n",
       "      <td>0.000000</td>\n",
       "      <td>0.000000</td>\n",
       "      <td>0.000000</td>\n",
       "      <td>0.000000</td>\n",
       "      <td>0.078000</td>\n",
       "      <td>21.000000</td>\n",
       "      <td>0.000000</td>\n",
       "    </tr>\n",
       "    <tr>\n",
       "      <th>25%</th>\n",
       "      <td>1.000000</td>\n",
       "      <td>99.000000</td>\n",
       "      <td>62.000000</td>\n",
       "      <td>0.000000</td>\n",
       "      <td>0.000000</td>\n",
       "      <td>27.300000</td>\n",
       "      <td>0.243750</td>\n",
       "      <td>24.000000</td>\n",
       "      <td>0.000000</td>\n",
       "    </tr>\n",
       "    <tr>\n",
       "      <th>50%</th>\n",
       "      <td>3.000000</td>\n",
       "      <td>117.000000</td>\n",
       "      <td>72.000000</td>\n",
       "      <td>23.000000</td>\n",
       "      <td>30.500000</td>\n",
       "      <td>32.000000</td>\n",
       "      <td>0.372500</td>\n",
       "      <td>29.000000</td>\n",
       "      <td>0.000000</td>\n",
       "    </tr>\n",
       "    <tr>\n",
       "      <th>75%</th>\n",
       "      <td>6.000000</td>\n",
       "      <td>140.250000</td>\n",
       "      <td>80.000000</td>\n",
       "      <td>32.000000</td>\n",
       "      <td>127.250000</td>\n",
       "      <td>36.600000</td>\n",
       "      <td>0.626250</td>\n",
       "      <td>41.000000</td>\n",
       "      <td>1.000000</td>\n",
       "    </tr>\n",
       "    <tr>\n",
       "      <th>max</th>\n",
       "      <td>17.000000</td>\n",
       "      <td>199.000000</td>\n",
       "      <td>122.000000</td>\n",
       "      <td>99.000000</td>\n",
       "      <td>846.000000</td>\n",
       "      <td>67.100000</td>\n",
       "      <td>2.420000</td>\n",
       "      <td>81.000000</td>\n",
       "      <td>1.000000</td>\n",
       "    </tr>\n",
       "  </tbody>\n",
       "</table>\n",
       "</div>"
      ],
      "text/plain": [
       "       pregnancies     glucose   diastolic     triceps     insulin  \\\n",
       "count   768.000000  768.000000  768.000000  768.000000  768.000000   \n",
       "mean      3.845052  120.894531   69.105469   20.536458   79.799479   \n",
       "std       3.369578   31.972618   19.355807   15.952218  115.244002   \n",
       "min       0.000000    0.000000    0.000000    0.000000    0.000000   \n",
       "25%       1.000000   99.000000   62.000000    0.000000    0.000000   \n",
       "50%       3.000000  117.000000   72.000000   23.000000   30.500000   \n",
       "75%       6.000000  140.250000   80.000000   32.000000  127.250000   \n",
       "max      17.000000  199.000000  122.000000   99.000000  846.000000   \n",
       "\n",
       "              bmi         dpf         age    diabetes  \n",
       "count  768.000000  768.000000  768.000000  768.000000  \n",
       "mean    31.992578    0.471876   33.240885    0.348958  \n",
       "std      7.884160    0.331329   11.760232    0.476951  \n",
       "min      0.000000    0.078000   21.000000    0.000000  \n",
       "25%     27.300000    0.243750   24.000000    0.000000  \n",
       "50%     32.000000    0.372500   29.000000    0.000000  \n",
       "75%     36.600000    0.626250   41.000000    1.000000  \n",
       "max     67.100000    2.420000   81.000000    1.000000  "
      ]
     },
     "execution_count": 6,
     "metadata": {},
     "output_type": "execute_result"
    }
   ],
   "source": [
    "df.describe()"
   ]
  },
  {
   "cell_type": "code",
   "execution_count": 8,
   "metadata": {},
   "outputs": [
    {
     "data": {
      "text/plain": [
       "Index(['pregnancies', 'glucose', 'diastolic', 'triceps', 'insulin', 'bmi',\n",
       "       'dpf', 'age', 'diabetes'],\n",
       "      dtype='object')"
      ]
     },
     "execution_count": 8,
     "metadata": {},
     "output_type": "execute_result"
    }
   ],
   "source": [
    "df.columns"
   ]
  },
  {
   "cell_type": "code",
   "execution_count": 9,
   "metadata": {},
   "outputs": [
    {
     "data": {
      "text/plain": [
       "(768, 9)"
      ]
     },
     "execution_count": 9,
     "metadata": {},
     "output_type": "execute_result"
    }
   ],
   "source": [
    "df.shape"
   ]
  },
  {
   "cell_type": "code",
   "execution_count": 10,
   "metadata": {},
   "outputs": [],
   "source": [
    "#get dependent and independent variable"
   ]
  },
  {
   "cell_type": "code",
   "execution_count": 11,
   "metadata": {},
   "outputs": [],
   "source": [
    "y=df[\"diabetes\"]"
   ]
  },
  {
   "cell_type": "code",
   "execution_count": 12,
   "metadata": {},
   "outputs": [
    {
     "data": {
      "text/plain": [
       "(768,)"
      ]
     },
     "execution_count": 12,
     "metadata": {},
     "output_type": "execute_result"
    }
   ],
   "source": [
    "y.shape"
   ]
  },
  {
   "cell_type": "code",
   "execution_count": 13,
   "metadata": {},
   "outputs": [],
   "source": [
    "X=df.drop('diabetes',axis=1)"
   ]
  },
  {
   "cell_type": "code",
   "execution_count": 14,
   "metadata": {},
   "outputs": [
    {
     "data": {
      "text/html": [
       "<div>\n",
       "<style scoped>\n",
       "    .dataframe tbody tr th:only-of-type {\n",
       "        vertical-align: middle;\n",
       "    }\n",
       "\n",
       "    .dataframe tbody tr th {\n",
       "        vertical-align: top;\n",
       "    }\n",
       "\n",
       "    .dataframe thead th {\n",
       "        text-align: right;\n",
       "    }\n",
       "</style>\n",
       "<table border=\"1\" class=\"dataframe\">\n",
       "  <thead>\n",
       "    <tr style=\"text-align: right;\">\n",
       "      <th></th>\n",
       "      <th>pregnancies</th>\n",
       "      <th>glucose</th>\n",
       "      <th>diastolic</th>\n",
       "      <th>triceps</th>\n",
       "      <th>insulin</th>\n",
       "      <th>bmi</th>\n",
       "      <th>dpf</th>\n",
       "      <th>age</th>\n",
       "    </tr>\n",
       "  </thead>\n",
       "  <tbody>\n",
       "    <tr>\n",
       "      <th>0</th>\n",
       "      <td>6</td>\n",
       "      <td>148</td>\n",
       "      <td>72</td>\n",
       "      <td>35</td>\n",
       "      <td>0</td>\n",
       "      <td>33.6</td>\n",
       "      <td>0.627</td>\n",
       "      <td>50</td>\n",
       "    </tr>\n",
       "    <tr>\n",
       "      <th>1</th>\n",
       "      <td>1</td>\n",
       "      <td>85</td>\n",
       "      <td>66</td>\n",
       "      <td>29</td>\n",
       "      <td>0</td>\n",
       "      <td>26.6</td>\n",
       "      <td>0.351</td>\n",
       "      <td>31</td>\n",
       "    </tr>\n",
       "    <tr>\n",
       "      <th>2</th>\n",
       "      <td>8</td>\n",
       "      <td>183</td>\n",
       "      <td>64</td>\n",
       "      <td>0</td>\n",
       "      <td>0</td>\n",
       "      <td>23.3</td>\n",
       "      <td>0.672</td>\n",
       "      <td>32</td>\n",
       "    </tr>\n",
       "    <tr>\n",
       "      <th>3</th>\n",
       "      <td>1</td>\n",
       "      <td>89</td>\n",
       "      <td>66</td>\n",
       "      <td>23</td>\n",
       "      <td>94</td>\n",
       "      <td>28.1</td>\n",
       "      <td>0.167</td>\n",
       "      <td>21</td>\n",
       "    </tr>\n",
       "    <tr>\n",
       "      <th>4</th>\n",
       "      <td>0</td>\n",
       "      <td>137</td>\n",
       "      <td>40</td>\n",
       "      <td>35</td>\n",
       "      <td>168</td>\n",
       "      <td>43.1</td>\n",
       "      <td>2.288</td>\n",
       "      <td>33</td>\n",
       "    </tr>\n",
       "    <tr>\n",
       "      <th>...</th>\n",
       "      <td>...</td>\n",
       "      <td>...</td>\n",
       "      <td>...</td>\n",
       "      <td>...</td>\n",
       "      <td>...</td>\n",
       "      <td>...</td>\n",
       "      <td>...</td>\n",
       "      <td>...</td>\n",
       "    </tr>\n",
       "    <tr>\n",
       "      <th>763</th>\n",
       "      <td>10</td>\n",
       "      <td>101</td>\n",
       "      <td>76</td>\n",
       "      <td>48</td>\n",
       "      <td>180</td>\n",
       "      <td>32.9</td>\n",
       "      <td>0.171</td>\n",
       "      <td>63</td>\n",
       "    </tr>\n",
       "    <tr>\n",
       "      <th>764</th>\n",
       "      <td>2</td>\n",
       "      <td>122</td>\n",
       "      <td>70</td>\n",
       "      <td>27</td>\n",
       "      <td>0</td>\n",
       "      <td>36.8</td>\n",
       "      <td>0.340</td>\n",
       "      <td>27</td>\n",
       "    </tr>\n",
       "    <tr>\n",
       "      <th>765</th>\n",
       "      <td>5</td>\n",
       "      <td>121</td>\n",
       "      <td>72</td>\n",
       "      <td>23</td>\n",
       "      <td>112</td>\n",
       "      <td>26.2</td>\n",
       "      <td>0.245</td>\n",
       "      <td>30</td>\n",
       "    </tr>\n",
       "    <tr>\n",
       "      <th>766</th>\n",
       "      <td>1</td>\n",
       "      <td>126</td>\n",
       "      <td>60</td>\n",
       "      <td>0</td>\n",
       "      <td>0</td>\n",
       "      <td>30.1</td>\n",
       "      <td>0.349</td>\n",
       "      <td>47</td>\n",
       "    </tr>\n",
       "    <tr>\n",
       "      <th>767</th>\n",
       "      <td>1</td>\n",
       "      <td>93</td>\n",
       "      <td>70</td>\n",
       "      <td>31</td>\n",
       "      <td>0</td>\n",
       "      <td>30.4</td>\n",
       "      <td>0.315</td>\n",
       "      <td>23</td>\n",
       "    </tr>\n",
       "  </tbody>\n",
       "</table>\n",
       "<p>768 rows × 8 columns</p>\n",
       "</div>"
      ],
      "text/plain": [
       "     pregnancies  glucose  diastolic  triceps  insulin   bmi    dpf  age\n",
       "0              6      148         72       35        0  33.6  0.627   50\n",
       "1              1       85         66       29        0  26.6  0.351   31\n",
       "2              8      183         64        0        0  23.3  0.672   32\n",
       "3              1       89         66       23       94  28.1  0.167   21\n",
       "4              0      137         40       35      168  43.1  2.288   33\n",
       "..           ...      ...        ...      ...      ...   ...    ...  ...\n",
       "763           10      101         76       48      180  32.9  0.171   63\n",
       "764            2      122         70       27        0  36.8  0.340   27\n",
       "765            5      121         72       23      112  26.2  0.245   30\n",
       "766            1      126         60        0        0  30.1  0.349   47\n",
       "767            1       93         70       31        0  30.4  0.315   23\n",
       "\n",
       "[768 rows x 8 columns]"
      ]
     },
     "execution_count": 14,
     "metadata": {},
     "output_type": "execute_result"
    }
   ],
   "source": [
    "X"
   ]
  },
  {
   "cell_type": "code",
   "execution_count": 15,
   "metadata": {},
   "outputs": [],
   "source": [
    "#X Variable Standardlized"
   ]
  },
  {
   "cell_type": "code",
   "execution_count": 17,
   "metadata": {},
   "outputs": [],
   "source": [
    "from sklearn.preprocessing import MinMaxScaler"
   ]
  },
  {
   "cell_type": "code",
   "execution_count": 18,
   "metadata": {},
   "outputs": [],
   "source": [
    "mm=MinMaxScaler()"
   ]
  },
  {
   "cell_type": "code",
   "execution_count": 19,
   "metadata": {},
   "outputs": [],
   "source": [
    "X=mm.fit_transform(X)"
   ]
  },
  {
   "cell_type": "code",
   "execution_count": 20,
   "metadata": {},
   "outputs": [
    {
     "data": {
      "text/plain": [
       "array([[0.35294118, 0.74371859, 0.59016393, ..., 0.50074516, 0.23441503,\n",
       "        0.48333333],\n",
       "       [0.05882353, 0.42713568, 0.54098361, ..., 0.39642325, 0.11656704,\n",
       "        0.16666667],\n",
       "       [0.47058824, 0.91959799, 0.52459016, ..., 0.34724292, 0.25362938,\n",
       "        0.18333333],\n",
       "       ...,\n",
       "       [0.29411765, 0.6080402 , 0.59016393, ..., 0.390462  , 0.07130658,\n",
       "        0.15      ],\n",
       "       [0.05882353, 0.63316583, 0.49180328, ..., 0.4485842 , 0.11571307,\n",
       "        0.43333333],\n",
       "       [0.05882353, 0.46733668, 0.57377049, ..., 0.45305514, 0.10119556,\n",
       "        0.03333333]])"
      ]
     },
     "execution_count": 20,
     "metadata": {},
     "output_type": "execute_result"
    }
   ],
   "source": [
    "X"
   ]
  },
  {
   "cell_type": "code",
   "execution_count": 22,
   "metadata": {},
   "outputs": [],
   "source": [
    "from sklearn.model_selection import train_test_split"
   ]
  },
  {
   "cell_type": "code",
   "execution_count": 23,
   "metadata": {},
   "outputs": [],
   "source": [
    "X_train,X_test,y_train,y_test=train_test_split(X,y,test_size=0.3,random_state=53)"
   ]
  },
  {
   "cell_type": "code",
   "execution_count": 24,
   "metadata": {},
   "outputs": [
    {
     "data": {
      "text/plain": [
       "((537, 8), (231, 8), (537,), (231,))"
      ]
     },
     "execution_count": 24,
     "metadata": {},
     "output_type": "execute_result"
    }
   ],
   "source": [
    "X_train.shape,X_test.shape,y_train.shape,y_test.shape"
   ]
  },
  {
   "cell_type": "code",
   "execution_count": 25,
   "metadata": {},
   "outputs": [],
   "source": [
    "from sklearn.linear_model import LogisticRegression"
   ]
  },
  {
   "cell_type": "code",
   "execution_count": 27,
   "metadata": {},
   "outputs": [],
   "source": [
    "lr=LogisticRegression()"
   ]
  },
  {
   "cell_type": "code",
   "execution_count": 29,
   "metadata": {},
   "outputs": [
    {
     "data": {
      "text/plain": [
       "LogisticRegression()"
      ]
     },
     "execution_count": 29,
     "metadata": {},
     "output_type": "execute_result"
    }
   ],
   "source": [
    "lr.fit(X_train,y_train)"
   ]
  },
  {
   "cell_type": "code",
   "execution_count": 30,
   "metadata": {},
   "outputs": [],
   "source": [
    "y_pred=lr.predict(X_test)"
   ]
  },
  {
   "cell_type": "code",
   "execution_count": 31,
   "metadata": {},
   "outputs": [
    {
     "data": {
      "text/plain": [
       "array([0, 0, 0, 0, 0, 0, 0, 1, 0, 0, 0, 0, 1, 0, 1, 0, 0, 0, 0, 0, 0, 1,\n",
       "       0, 0, 0, 0, 0, 0, 0, 0, 0, 1, 0, 1, 1, 0, 1, 0, 1, 0, 0, 0, 0, 0,\n",
       "       0, 0, 0, 0, 0, 0, 1, 0, 0, 0, 0, 1, 0, 1, 0, 1, 0, 0, 0, 1, 0, 1,\n",
       "       0, 1, 1, 0, 1, 1, 0, 0, 1, 0, 0, 0, 0, 0, 0, 0, 1, 0, 0, 0, 1, 0,\n",
       "       1, 0, 1, 0, 1, 1, 0, 0, 0, 1, 0, 1, 0, 1, 0, 0, 1, 1, 0, 0, 0, 0,\n",
       "       0, 1, 1, 1, 0, 0, 0, 0, 0, 0, 0, 0, 1, 0, 0, 0, 0, 0, 0, 0, 0, 0,\n",
       "       0, 0, 0, 0, 0, 0, 0, 0, 1, 0, 0, 0, 0, 0, 1, 0, 0, 0, 0, 0, 0, 0,\n",
       "       1, 1, 0, 1, 0, 1, 0, 1, 1, 0, 0, 0, 0, 0, 1, 1, 0, 0, 1, 0, 1, 0,\n",
       "       0, 1, 1, 0, 1, 0, 0, 0, 0, 0, 1, 1, 0, 0, 0, 0, 0, 0, 0, 0, 0, 0,\n",
       "       1, 1, 1, 1, 0, 1, 0, 0, 0, 0, 0, 0, 0, 1, 0, 1, 0, 0, 0, 1, 1, 0,\n",
       "       0, 0, 1, 1, 1, 0, 0, 0, 0, 1, 0], dtype=int64)"
      ]
     },
     "execution_count": 31,
     "metadata": {},
     "output_type": "execute_result"
    }
   ],
   "source": [
    "y_pred"
   ]
  },
  {
   "cell_type": "code",
   "execution_count": 32,
   "metadata": {},
   "outputs": [
    {
     "data": {
      "text/plain": [
       "(231,)"
      ]
     },
     "execution_count": 32,
     "metadata": {},
     "output_type": "execute_result"
    }
   ],
   "source": [
    "y_pred.shape"
   ]
  },
  {
   "cell_type": "code",
   "execution_count": 33,
   "metadata": {},
   "outputs": [],
   "source": [
    "#get probability of each predicted class"
   ]
  },
  {
   "cell_type": "code",
   "execution_count": 34,
   "metadata": {},
   "outputs": [
    {
     "data": {
      "text/plain": [
       "array([[0.855904  , 0.144096  ],\n",
       "       [0.79448878, 0.20551122],\n",
       "       [0.74928997, 0.25071003],\n",
       "       [0.83193659, 0.16806341],\n",
       "       [0.94912445, 0.05087555],\n",
       "       [0.66366847, 0.33633153],\n",
       "       [0.5404501 , 0.4595499 ],\n",
       "       [0.2352207 , 0.7647793 ],\n",
       "       [0.6002316 , 0.3997684 ],\n",
       "       [0.73520415, 0.26479585],\n",
       "       [0.67645484, 0.32354516],\n",
       "       [0.6204695 , 0.3795305 ],\n",
       "       [0.16581725, 0.83418275],\n",
       "       [0.54201247, 0.45798753],\n",
       "       [0.37191266, 0.62808734],\n",
       "       [0.78341418, 0.21658582],\n",
       "       [0.84821444, 0.15178556],\n",
       "       [0.79751085, 0.20248915],\n",
       "       [0.62175593, 0.37824407],\n",
       "       [0.59746167, 0.40253833],\n",
       "       [0.71735084, 0.28264916],\n",
       "       [0.40289873, 0.59710127],\n",
       "       [0.58438533, 0.41561467],\n",
       "       [0.82336716, 0.17663284],\n",
       "       [0.92539932, 0.07460068],\n",
       "       [0.55135632, 0.44864368],\n",
       "       [0.65206355, 0.34793645],\n",
       "       [0.74518587, 0.25481413],\n",
       "       [0.61484231, 0.38515769],\n",
       "       [0.5751318 , 0.4248682 ],\n",
       "       [0.8856878 , 0.1143122 ],\n",
       "       [0.46137729, 0.53862271],\n",
       "       [0.8491479 , 0.1508521 ],\n",
       "       [0.43342289, 0.56657711],\n",
       "       [0.08696081, 0.91303919],\n",
       "       [0.88863619, 0.11136381],\n",
       "       [0.49771057, 0.50228943],\n",
       "       [0.85740023, 0.14259977],\n",
       "       [0.37695388, 0.62304612],\n",
       "       [0.7789882 , 0.2210118 ],\n",
       "       [0.50168719, 0.49831281],\n",
       "       [0.53693957, 0.46306043],\n",
       "       [0.61080215, 0.38919785],\n",
       "       [0.61940151, 0.38059849],\n",
       "       [0.56358466, 0.43641534],\n",
       "       [0.63741854, 0.36258146],\n",
       "       [0.56533043, 0.43466957],\n",
       "       [0.87569516, 0.12430484],\n",
       "       [0.52883806, 0.47116194],\n",
       "       [0.80706617, 0.19293383],\n",
       "       [0.30428848, 0.69571152],\n",
       "       [0.65671211, 0.34328789],\n",
       "       [0.80718032, 0.19281968],\n",
       "       [0.93878015, 0.06121985],\n",
       "       [0.75411211, 0.24588789],\n",
       "       [0.22530605, 0.77469395],\n",
       "       [0.60626115, 0.39373885],\n",
       "       [0.15754243, 0.84245757],\n",
       "       [0.78810546, 0.21189454],\n",
       "       [0.25861978, 0.74138022],\n",
       "       [0.74292143, 0.25707857],\n",
       "       [0.84453453, 0.15546547],\n",
       "       [0.75013834, 0.24986166],\n",
       "       [0.37202283, 0.62797717],\n",
       "       [0.84240045, 0.15759955],\n",
       "       [0.25896112, 0.74103888],\n",
       "       [0.86904469, 0.13095531],\n",
       "       [0.19389883, 0.80610117],\n",
       "       [0.49760204, 0.50239796],\n",
       "       [0.63374774, 0.36625226],\n",
       "       [0.46201861, 0.53798139],\n",
       "       [0.34084969, 0.65915031],\n",
       "       [0.61453428, 0.38546572],\n",
       "       [0.89422796, 0.10577204],\n",
       "       [0.35092851, 0.64907149],\n",
       "       [0.7631955 , 0.2368045 ],\n",
       "       [0.5044254 , 0.4955746 ],\n",
       "       [0.59109349, 0.40890651],\n",
       "       [0.5611847 , 0.4388153 ],\n",
       "       [0.64429673, 0.35570327],\n",
       "       [0.57185734, 0.42814266],\n",
       "       [0.7833322 , 0.2166678 ],\n",
       "       [0.40791999, 0.59208001],\n",
       "       [0.76587172, 0.23412828],\n",
       "       [0.77567895, 0.22432105],\n",
       "       [0.53715855, 0.46284145],\n",
       "       [0.46956814, 0.53043186],\n",
       "       [0.79114903, 0.20885097],\n",
       "       [0.41425714, 0.58574286],\n",
       "       [0.59736179, 0.40263821],\n",
       "       [0.38981496, 0.61018504],\n",
       "       [0.60724843, 0.39275157],\n",
       "       [0.49106441, 0.50893559],\n",
       "       [0.47047443, 0.52952557],\n",
       "       [0.65298572, 0.34701428],\n",
       "       [0.55416685, 0.44583315],\n",
       "       [0.74909828, 0.25090172],\n",
       "       [0.44052991, 0.55947009],\n",
       "       [0.73202042, 0.26797958],\n",
       "       [0.2455751 , 0.7544249 ],\n",
       "       [0.50942208, 0.49057792],\n",
       "       [0.3032414 , 0.6967586 ],\n",
       "       [0.91437725, 0.08562275],\n",
       "       [0.67230693, 0.32769307],\n",
       "       [0.23506986, 0.76493014],\n",
       "       [0.26421969, 0.73578031],\n",
       "       [0.89328764, 0.10671236],\n",
       "       [0.90276443, 0.09723557],\n",
       "       [0.59848767, 0.40151233],\n",
       "       [0.83415252, 0.16584748],\n",
       "       [0.59150662, 0.40849338],\n",
       "       [0.37257365, 0.62742635],\n",
       "       [0.45228727, 0.54771273],\n",
       "       [0.35711   , 0.64289   ],\n",
       "       [0.60324821, 0.39675179],\n",
       "       [0.94170879, 0.05829121],\n",
       "       [0.70579039, 0.29420961],\n",
       "       [0.78061813, 0.21938187],\n",
       "       [0.7743305 , 0.2256695 ],\n",
       "       [0.83219025, 0.16780975],\n",
       "       [0.65649174, 0.34350826],\n",
       "       [0.71057469, 0.28942531],\n",
       "       [0.3997961 , 0.6002039 ],\n",
       "       [0.70534257, 0.29465743],\n",
       "       [0.69840789, 0.30159211],\n",
       "       [0.78228299, 0.21771701],\n",
       "       [0.84717615, 0.15282385],\n",
       "       [0.78071577, 0.21928423],\n",
       "       [0.64691343, 0.35308657],\n",
       "       [0.78663542, 0.21336458],\n",
       "       [0.81204863, 0.18795137],\n",
       "       [0.60491592, 0.39508408],\n",
       "       [0.61626618, 0.38373382],\n",
       "       [0.72115873, 0.27884127],\n",
       "       [0.79318546, 0.20681454],\n",
       "       [0.75389823, 0.24610177],\n",
       "       [0.7822682 , 0.2177318 ],\n",
       "       [0.79792774, 0.20207226],\n",
       "       [0.74584042, 0.25415958],\n",
       "       [0.52302821, 0.47697179],\n",
       "       [0.37628842, 0.62371158],\n",
       "       [0.67953371, 0.32046629],\n",
       "       [0.7610703 , 0.2389297 ],\n",
       "       [0.80761333, 0.19238667],\n",
       "       [0.77968589, 0.22031411],\n",
       "       [0.79129642, 0.20870358],\n",
       "       [0.26403697, 0.73596303],\n",
       "       [0.84032691, 0.15967309],\n",
       "       [0.67146328, 0.32853672],\n",
       "       [0.77507703, 0.22492297],\n",
       "       [0.8760576 , 0.1239424 ],\n",
       "       [0.78676476, 0.21323524],\n",
       "       [0.60811385, 0.39188615],\n",
       "       [0.84130169, 0.15869831],\n",
       "       [0.21462728, 0.78537272],\n",
       "       [0.47119402, 0.52880598],\n",
       "       [0.59654222, 0.40345778],\n",
       "       [0.40313299, 0.59686701],\n",
       "       [0.8989606 , 0.1010394 ],\n",
       "       [0.375999  , 0.624001  ],\n",
       "       [0.71014258, 0.28985742],\n",
       "       [0.48203437, 0.51796563],\n",
       "       [0.30399443, 0.69600557],\n",
       "       [0.7378345 , 0.2621655 ],\n",
       "       [0.70659044, 0.29340956],\n",
       "       [0.90424725, 0.09575275],\n",
       "       [0.78191109, 0.21808891],\n",
       "       [0.79970394, 0.20029606],\n",
       "       [0.28233237, 0.71766763],\n",
       "       [0.44173282, 0.55826718],\n",
       "       [0.8104021 , 0.1895979 ],\n",
       "       [0.98439527, 0.01560473],\n",
       "       [0.37612143, 0.62387857],\n",
       "       [0.75194396, 0.24805604],\n",
       "       [0.39469014, 0.60530986],\n",
       "       [0.77074755, 0.22925245],\n",
       "       [0.81124293, 0.18875707],\n",
       "       [0.31120374, 0.68879626],\n",
       "       [0.43988384, 0.56011616],\n",
       "       [0.84249301, 0.15750699],\n",
       "       [0.44506917, 0.55493083],\n",
       "       [0.86336271, 0.13663729],\n",
       "       [0.6648954 , 0.3351046 ],\n",
       "       [0.67498402, 0.32501598],\n",
       "       [0.90800738, 0.09199262],\n",
       "       [0.8955544 , 0.1044456 ],\n",
       "       [0.26966488, 0.73033512],\n",
       "       [0.28602688, 0.71397312],\n",
       "       [0.80692596, 0.19307404],\n",
       "       [0.93214365, 0.06785635],\n",
       "       [0.75980594, 0.24019406],\n",
       "       [0.58484845, 0.41515155],\n",
       "       [0.86549463, 0.13450537],\n",
       "       [0.90248027, 0.09751973],\n",
       "       [0.8378537 , 0.1621463 ],\n",
       "       [0.80285893, 0.19714107],\n",
       "       [0.52615199, 0.47384801],\n",
       "       [0.67509125, 0.32490875],\n",
       "       [0.40432456, 0.59567544],\n",
       "       [0.27341912, 0.72658088],\n",
       "       [0.18978211, 0.81021789],\n",
       "       [0.46198557, 0.53801443],\n",
       "       [0.83468542, 0.16531458],\n",
       "       [0.28686297, 0.71313703],\n",
       "       [0.7967266 , 0.2032734 ],\n",
       "       [0.54279108, 0.45720892],\n",
       "       [0.67557095, 0.32442905],\n",
       "       [0.78657385, 0.21342615],\n",
       "       [0.84478463, 0.15521537],\n",
       "       [0.73273735, 0.26726265],\n",
       "       [0.57208346, 0.42791654],\n",
       "       [0.17010367, 0.82989633],\n",
       "       [0.71265166, 0.28734834],\n",
       "       [0.41824341, 0.58175659],\n",
       "       [0.79065968, 0.20934032],\n",
       "       [0.70291646, 0.29708354],\n",
       "       [0.68003582, 0.31996418],\n",
       "       [0.21541496, 0.78458504],\n",
       "       [0.33417209, 0.66582791],\n",
       "       [0.74929942, 0.25070058],\n",
       "       [0.73606712, 0.26393288],\n",
       "       [0.92728833, 0.07271167],\n",
       "       [0.25326101, 0.74673899],\n",
       "       [0.31713308, 0.68286692],\n",
       "       [0.49620748, 0.50379252],\n",
       "       [0.69299751, 0.30700249],\n",
       "       [0.8512898 , 0.1487102 ],\n",
       "       [0.86939703, 0.13060297],\n",
       "       [0.863303  , 0.136697  ],\n",
       "       [0.32591144, 0.67408856],\n",
       "       [0.50036925, 0.49963075]])"
      ]
     },
     "execution_count": 34,
     "metadata": {},
     "output_type": "execute_result"
    }
   ],
   "source": [
    "lr.predict_proba(X_test)"
   ]
  },
  {
   "cell_type": "code",
   "execution_count": 35,
   "metadata": {},
   "outputs": [],
   "source": [
    "from sklearn.metrics import confusion_matrix,classification_report"
   ]
  },
  {
   "cell_type": "code",
   "execution_count": 39,
   "metadata": {},
   "outputs": [
    {
     "name": "stdout",
     "output_type": "stream",
     "text": [
      "[[126  17]\n",
      " [ 40  48]]\n"
     ]
    }
   ],
   "source": [
    "print(confusion_matrix(y_test,y_pred))"
   ]
  },
  {
   "cell_type": "code",
   "execution_count": 40,
   "metadata": {},
   "outputs": [
    {
     "name": "stdout",
     "output_type": "stream",
     "text": [
      "              precision    recall  f1-score   support\n",
      "\n",
      "           0       0.76      0.88      0.82       143\n",
      "           1       0.74      0.55      0.63        88\n",
      "\n",
      "    accuracy                           0.75       231\n",
      "   macro avg       0.75      0.71      0.72       231\n",
      "weighted avg       0.75      0.75      0.74       231\n",
      "\n"
     ]
    }
   ],
   "source": [
    "print(classification_report(y_test,y_pred))"
   ]
  },
  {
   "cell_type": "code",
   "execution_count": 73,
   "metadata": {},
   "outputs": [],
   "source": [
    "X_new=df.sample(1)"
   ]
  },
  {
   "cell_type": "code",
   "execution_count": 74,
   "metadata": {},
   "outputs": [
    {
     "data": {
      "text/html": [
       "<div>\n",
       "<style scoped>\n",
       "    .dataframe tbody tr th:only-of-type {\n",
       "        vertical-align: middle;\n",
       "    }\n",
       "\n",
       "    .dataframe tbody tr th {\n",
       "        vertical-align: top;\n",
       "    }\n",
       "\n",
       "    .dataframe thead th {\n",
       "        text-align: right;\n",
       "    }\n",
       "</style>\n",
       "<table border=\"1\" class=\"dataframe\">\n",
       "  <thead>\n",
       "    <tr style=\"text-align: right;\">\n",
       "      <th></th>\n",
       "      <th>pregnancies</th>\n",
       "      <th>glucose</th>\n",
       "      <th>diastolic</th>\n",
       "      <th>triceps</th>\n",
       "      <th>insulin</th>\n",
       "      <th>bmi</th>\n",
       "      <th>dpf</th>\n",
       "      <th>age</th>\n",
       "      <th>diabetes</th>\n",
       "    </tr>\n",
       "  </thead>\n",
       "  <tbody>\n",
       "    <tr>\n",
       "      <th>447</th>\n",
       "      <td>0</td>\n",
       "      <td>95</td>\n",
       "      <td>80</td>\n",
       "      <td>45</td>\n",
       "      <td>92</td>\n",
       "      <td>36.5</td>\n",
       "      <td>0.33</td>\n",
       "      <td>26</td>\n",
       "      <td>0</td>\n",
       "    </tr>\n",
       "  </tbody>\n",
       "</table>\n",
       "</div>"
      ],
      "text/plain": [
       "     pregnancies  glucose  diastolic  triceps  insulin   bmi   dpf  age  \\\n",
       "447            0       95         80       45       92  36.5  0.33   26   \n",
       "\n",
       "     diabetes  \n",
       "447         0  "
      ]
     },
     "execution_count": 74,
     "metadata": {},
     "output_type": "execute_result"
    }
   ],
   "source": [
    "X_new"
   ]
  },
  {
   "cell_type": "code",
   "execution_count": 75,
   "metadata": {},
   "outputs": [
    {
     "data": {
      "text/plain": [
       "(1, 9)"
      ]
     },
     "execution_count": 75,
     "metadata": {},
     "output_type": "execute_result"
    }
   ],
   "source": [
    "X_new.shape"
   ]
  },
  {
   "cell_type": "code",
   "execution_count": 76,
   "metadata": {},
   "outputs": [],
   "source": [
    "X_new=X_new.drop('diabetes',axis=1)"
   ]
  },
  {
   "cell_type": "code",
   "execution_count": 77,
   "metadata": {},
   "outputs": [],
   "source": [
    "X_new=mm.fit_transform(X_new)"
   ]
  },
  {
   "cell_type": "code",
   "execution_count": 78,
   "metadata": {},
   "outputs": [
    {
     "data": {
      "text/plain": [
       "array([[0., 0., 0., 0., 0., 0., 0., 0.]])"
      ]
     },
     "execution_count": 78,
     "metadata": {},
     "output_type": "execute_result"
    }
   ],
   "source": [
    "X_new"
   ]
  },
  {
   "cell_type": "code",
   "execution_count": 79,
   "metadata": {},
   "outputs": [
    {
     "data": {
      "text/plain": [
       "array([0], dtype=int64)"
      ]
     },
     "execution_count": 79,
     "metadata": {},
     "output_type": "execute_result"
    }
   ],
   "source": [
    "lr.predict(X_new)"
   ]
  },
  {
   "cell_type": "code",
   "execution_count": null,
   "metadata": {},
   "outputs": [],
   "source": []
  }
 ],
 "metadata": {
  "kernelspec": {
   "display_name": "Python 3",
   "language": "python",
   "name": "python3"
  },
  "language_info": {
   "codemirror_mode": {
    "name": "ipython",
    "version": 3
   },
   "file_extension": ".py",
   "mimetype": "text/x-python",
   "name": "python",
   "nbconvert_exporter": "python",
   "pygments_lexer": "ipython3",
   "version": "3.9.1"
  }
 },
 "nbformat": 4,
 "nbformat_minor": 4
}
